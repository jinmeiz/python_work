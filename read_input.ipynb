{
 "cells": [
  {
   "cell_type": "code",
   "execution_count": 1,
   "metadata": {
    "collapsed": false
   },
   "outputs": [
    {
     "name": "stdout",
     "output_type": "stream",
     "text": [
      "I'm first call to user defined function!\n",
      "Again second call to the same function\n"
     ]
    }
   ],
   "source": [
    "# Function definition is here\n",
    "def printme( str ):\n",
    "   \"This prints a passed string into this function\"\n",
    "   print (str)\n",
    "   return\n",
    "\n",
    "# Now you can call printme function\n",
    "printme(\"I'm first call to user defined function!\")\n",
    "printme(\"Again second call to the same function\")"
   ]
  },
  {
   "cell_type": "code",
   "execution_count": 92,
   "metadata": {
    "collapsed": false
   },
   "outputs": [
    {
     "name": "stdout",
     "output_type": "stream",
     "text": [
      "Specify the number of alpha and beta orbitals: 32 32\n"
     ]
    }
   ],
   "source": [
    "# input\n",
    "nalpha = 32\n",
    "nbeta = 32\n",
    "n = nalpha + nbeta\n",
    "print(\"Specify the number of alpha and beta orbitals:\",nalpha,nbeta)"
   ]
  },
  {
   "cell_type": "code",
   "execution_count": 93,
   "metadata": {
    "collapsed": false
   },
   "outputs": [
    {
     "name": "stdout",
     "output_type": "stream",
     "text": [
      "Read file:  ./h2o/hcore.out\n",
      "Processing list\n",
      "\n",
      "Output file:  ints_1e.txt\n",
      "Number of nonzero elements:  604\n"
     ]
    }
   ],
   "source": [
    "# process one-electron integrals\n",
    "f_h = open(\"./h2o/hcore.out\", \"r\")\n",
    "print (\"Read file: \", f_h.name)\n",
    "h_line = f_h.readline()\n",
    "h_list = h_line.split(' ')\n",
    "# for word in h_list:\n",
    "#     print(word)\n",
    "\n",
    "print (\"Processing list\")\n",
    "del h_list[0:6]\n",
    "del h_list[-1]\n",
    "\n",
    "fw_h = open(\"ints_1e.txt\", \"w\")\n",
    "print (\"\\nOutput file: \", fw_h.name)\n",
    "fw_h.write(\"%%MatrixMarket matrix coordinate real general\\n\")\n",
    "fw_h.write(\"%d %d \\n\" %(n,n))\n",
    "nonzero_h = 0;\n",
    "# 1e integrals in alpha alpha case\n",
    "for p in range(0,nalpha):\n",
    "    for pp in range(0,nalpha): \n",
    "        index =  p*nalpha+pp \n",
    "        int_h = h_list[index]\n",
    "\n",
    "        if abs(float(int_h))>1E-12: \n",
    "            #print(int_h)\n",
    "            fw_h.write(\"%d %d %s\\n\" %(p+1,pp+1,int_h))\n",
    "            nonzero_h += 1;\n",
    "\n",
    "# 1e integrals in beta beta case            \n",
    "for p in range(0,nbeta):\n",
    "    for pp in range(0,nbeta): \n",
    "        index =  p*nbeta+pp \n",
    "        int_h = h_list[index]\n",
    "\n",
    "        if abs(float(int_h))>1E-12: \n",
    "            #print(int_h)\n",
    "            fw_h.write(\"%d %d %s\\n\" %(p+1+nalpha,pp+1+nalpha,int_h))\n",
    "            nonzero_h += 1;\n",
    "            \n",
    "print(\"Number of nonzero elements: \",nonzero_h)                     \n",
    "fw_h.close()"
   ]
  },
  {
   "cell_type": "code",
   "execution_count": null,
   "metadata": {
    "collapsed": true
   },
   "outputs": [],
   "source": []
  },
  {
   "cell_type": "code",
   "execution_count": 94,
   "metadata": {
    "collapsed": false
   },
   "outputs": [
    {
     "name": "stdout",
     "output_type": "stream",
     "text": [
      "\n",
      "Read file:  ./h2o/gaa.out\n",
      "Read file:  ./h2o/gab.out\n",
      "Processing list\n",
      "\n",
      "Output file:  ./h2o/ints_2e.txt\n",
      "Number of nonzero elements:  374220\n"
     ]
    }
   ],
   "source": [
    "# process two-electron integrals\n",
    "f_gaa = open(\"./h2o/gaa.out\", \"r\")\n",
    "print (\"\\nRead file: \", f_gaa.name) \n",
    "gaa_line = f_gaa.readline()\n",
    "gaa_list = gaa_line.split(' ')\n",
    "\n",
    "f_gab = open(\"./h2o/gab.out\", \"r\")\n",
    "print (\"Read file: \", f_gab.name)    \n",
    "gab_line = f_gab.readline()\n",
    "gab_list = gab_line.split(' ')\n",
    "\n",
    "print (\"Processing list\")\n",
    "del gaa_list[0:6]\n",
    "del gaa_list[-1]\n",
    "del gab_list[0:6]\n",
    "del gab_list[-1]\n",
    "# for word in gaa_list:\n",
    "#    print(word)\n",
    "\n",
    "fw_g = open(\"./h2o/ints_2e.txt\", \"w\")\n",
    "print (\"\\nOutput file: \", fw_g.name)\n",
    "fw_g.write(\"%%MatrixMarket matrix coordinate real general\\n\")\n",
    "fw_g.write(\"%d %d \\n\" %(n,n))\n",
    "\n",
    "nonzero_g = 0;\n",
    "# 2e integrals in alpha-alpha case\n",
    "for p in range(0,nalpha):\n",
    "    for q in range(0,p+1):\n",
    "        for pp in range(0,nalpha):\n",
    "            for qp in range(0,pp+1):\n",
    "                index =  p*nalpha*nalpha*nalpha+q*nalpha*nalpha+pp*nalpha+qp\n",
    "                int_g = gaa_list[index]\n",
    "\n",
    "                if abs(float(int_g))>1E-12: \n",
    "                    fw_g.write(\"%d %d %d %d %s\\n\" %(p+1,q+1,pp+1,qp+1,int_g))\n",
    "                    nonzero_g += 1;\n",
    "                    \n",
    "# 2e integrals in beta-beta case\n",
    "for p in range(0,nbeta):\n",
    "    for q in range(0,p+1):\n",
    "        for pp in range(0,nbeta):\n",
    "            for qp in range(0,pp+1):\n",
    "                index =  p*nbeta*nbeta*nbeta+q*nbeta*nbeta+pp*nbeta+qp\n",
    "                int_g = gaa_list[index]\n",
    "\n",
    "                if abs(float(int_g))>1E-12: \n",
    "                    fw_g.write(\"%d %d %d %d %s\\n\" %(p+1+nalpha,q+1+nalpha,pp+1+nalpha,qp+1+nalpha,int_g))\n",
    "                    nonzero_g += 1;\n",
    "\n",
    "# 2e integrals in alpha-beta case\n",
    "for p in range(0,nbeta):\n",
    "    for q in range(0,nalpha):\n",
    "        for pp in range(0,nbeta):\n",
    "            for qp in range(0,nalpha):\n",
    "                index =  p*nalpha*nbeta*nalpha+q*nbeta*nalpha+pp*nalpha+qp\n",
    "                int_g = gab_list[index]\n",
    "\n",
    "                if abs(float(int_g))>1E-12: \n",
    "                    fw_g.write(\"%d %d %d %d %s\\n\" %(p+1+nalpha,q+1,pp+1+nalpha,qp+1,int_g))\n",
    "                    nonzero_g += 1;\n",
    "            \n",
    "print(\"Number of nonzero elements: \",nonzero_g)                     \n",
    "fw_g.close()           "
   ]
  },
  {
   "cell_type": "code",
   "execution_count": null,
   "metadata": {
    "collapsed": true
   },
   "outputs": [],
   "source": []
  }
 ],
 "metadata": {
  "anaconda-cloud": {},
  "kernelspec": {
   "display_name": "Python [Root]",
   "language": "python",
   "name": "Python [Root]"
  },
  "language_info": {
   "codemirror_mode": {
    "name": "ipython",
    "version": 3
   },
   "file_extension": ".py",
   "mimetype": "text/x-python",
   "name": "python",
   "nbconvert_exporter": "python",
   "pygments_lexer": "ipython3",
   "version": "3.5.2"
  }
 },
 "nbformat": 4,
 "nbformat_minor": 0
}
