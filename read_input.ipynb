{
 "cells": [
  {
   "cell_type": "markdown",
   "metadata": {},
   "source": [
    "### This script takes tensors generated from MPQC (in TiledArray tensor format) and prints them into txt files that can be read by MATLAB"
   ]
  },
  {
   "cell_type": "markdown",
   "metadata": {},
   "source": [
    "### Specify inputs"
   ]
  },
  {
   "cell_type": "markdown",
   "metadata": {},
   "source": [
    "#### Case 1: H$_2$ molecule"
   ]
  },
  {
   "cell_type": "code",
   "execution_count": 20,
   "metadata": {
    "collapsed": false,
    "scrolled": true
   },
   "outputs": [],
   "source": [
    "nalpha = 2\n",
    "nbeta = 2\n",
    "fname_h = \"hcore.out\" \n",
    "fname_gaa = \"gaa.out\" \n",
    "fname_gab = \"gab.out\"\n",
    "fwname_h = \"ints_1e.txt\"\n",
    "fwname_g = \"ints_2e.txt\""
   ]
  },
  {
   "cell_type": "markdown",
   "metadata": {},
   "source": [
    "####  Case 2: H$_2$O molecule"
   ]
  },
  {
   "cell_type": "code",
   "execution_count": 21,
   "metadata": {
    "collapsed": true
   },
   "outputs": [],
   "source": [
    "nalpha = 32\n",
    "nbeta = 32\n",
    "fname_h = \"./h2o/hcore.out\" \n",
    "fname_gaa = \"./h2o/gaa.out\" \n",
    "fname_gab = \"./h2o/gab.out\" \n",
    "fwname_h = \"./h2o/ints_1e.txt\"\n",
    "fwname_g = \"./h2o/ints_2e.txt\""
   ]
  },
  {
   "cell_type": "markdown",
   "metadata": {},
   "source": [
    "### Process one-electron integrals"
   ]
  },
  {
   "cell_type": "code",
   "execution_count": 22,
   "metadata": {
    "collapsed": false
   },
   "outputs": [
    {
     "name": "stdout",
     "output_type": "stream",
     "text": [
      "Number of alpha and beta orbitals:  64\n",
      "\n",
      "\n",
      "Read file:  ./h2o/hcore.out\n",
      "Processing list\n",
      "\n",
      "Output file:  ./h2o/ints_1e.txt\n",
      "Number of nonzero elements:  604\n"
     ]
    }
   ],
   "source": [
    "n = nalpha + nbeta\n",
    "print(\"Number of alpha and beta orbitals: \", n)\n",
    "print(\"\\n\")\n",
    "\n",
    "f_h = open(fname_h, \"r\")\n",
    "print (\"Read file: \", f_h.name)\n",
    "h_line = f_h.readline()\n",
    "h_list = h_line.split(' ')\n",
    "# for word in h_list:\n",
    "#     print(word)\n",
    "\n",
    "print (\"Processing list\")\n",
    "del h_list[0:6]\n",
    "del h_list[-1]\n",
    "\n",
    "fw_h = open(fwname_h, \"w\")\n",
    "print (\"\\nOutput file: \", fw_h.name)\n",
    "fw_h.write(\"%%MatrixMarket matrix coordinate real general\\n\")\n",
    "fw_h.write(\"%d %d \\n\" %(n,n))\n",
    "nonzero_h = 0;\n",
    "# 1e integrals in alpha alpha case\n",
    "for p in range(0,nalpha):\n",
    "    for pp in range(0,nalpha): \n",
    "        index =  p*nalpha+pp \n",
    "        int_h = h_list[index]\n",
    "\n",
    "        if abs(float(int_h))>1E-12: \n",
    "            #print(int_h)\n",
    "            fw_h.write(\"%d %d %s\\n\" %(p+1,pp+1,int_h))\n",
    "            nonzero_h += 1;\n",
    "\n",
    "# 1e integrals in beta beta case            \n",
    "for p in range(0,nbeta):\n",
    "    for pp in range(0,nbeta): \n",
    "        index =  p*nbeta+pp \n",
    "        int_h = h_list[index]\n",
    "\n",
    "        if abs(float(int_h))>1E-12: \n",
    "            #print(int_h)\n",
    "            fw_h.write(\"%d %d %s\\n\" %(p+1+nalpha,pp+1+nalpha,int_h))\n",
    "            nonzero_h += 1;\n",
    "            \n",
    "print(\"Number of nonzero elements: \",nonzero_h)                     \n",
    "fw_h.close()"
   ]
  },
  {
   "cell_type": "markdown",
   "metadata": {
    "collapsed": true
   },
   "source": [
    "### Process two-electron integrals"
   ]
  },
  {
   "cell_type": "code",
   "execution_count": 23,
   "metadata": {
    "collapsed": false
   },
   "outputs": [
    {
     "name": "stdout",
     "output_type": "stream",
     "text": [
      "\n",
      "Read file:  ./h2o/gaa.out\n",
      "Read file:  ./h2o/gab.out\n",
      "Processing list\n",
      "\n",
      "Output file:  ./h2o/ints_2e.txt\n",
      "Number of nonzero elements:  374220\n"
     ]
    }
   ],
   "source": [
    "f_gaa = open(fname_gaa, \"r\")\n",
    "print (\"\\nRead file: \", f_gaa.name) \n",
    "gaa_line = f_gaa.readline()\n",
    "gaa_list = gaa_line.split(' ')\n",
    "\n",
    "f_gab = open(fname_gab, \"r\")\n",
    "print (\"Read file: \", f_gab.name)    \n",
    "gab_line = f_gab.readline()\n",
    "gab_list = gab_line.split(' ')\n",
    "\n",
    "print (\"Processing list\")\n",
    "del gaa_list[0:6]\n",
    "del gaa_list[-1]\n",
    "del gab_list[0:6]\n",
    "del gab_list[-1]\n",
    "# for word in gaa_list:\n",
    "#    print(word)\n",
    "\n",
    "fw_g = open(fwname_g, \"w\")\n",
    "print (\"\\nOutput file: \", fw_g.name)\n",
    "fw_g.write(\"%%MatrixMarket matrix coordinate real general\\n\")\n",
    "fw_g.write(\"%d %d \\n\" %(n,n))\n",
    "\n",
    "nonzero_g = 0;\n",
    "# 2e integrals in alpha-alpha case\n",
    "for p in range(0,nalpha):\n",
    "    for q in range(0,p+1):\n",
    "        for pp in range(0,nalpha):\n",
    "            for qp in range(0,pp+1):\n",
    "                index =  p*nalpha*nalpha*nalpha+q*nalpha*nalpha+pp*nalpha+qp\n",
    "                int_g = gaa_list[index]\n",
    "\n",
    "                if abs(float(int_g))>1E-12: \n",
    "                    fw_g.write(\"%d %d %d %d %s\\n\" %(p+1,q+1,pp+1,qp+1,int_g))\n",
    "                    nonzero_g += 1;\n",
    "                    \n",
    "# 2e integrals in beta-beta case\n",
    "for p in range(0,nbeta):\n",
    "    for q in range(0,p+1):\n",
    "        for pp in range(0,nbeta):\n",
    "            for qp in range(0,pp+1):\n",
    "                index =  p*nbeta*nbeta*nbeta+q*nbeta*nbeta+pp*nbeta+qp\n",
    "                int_g = gaa_list[index]\n",
    "\n",
    "                if abs(float(int_g))>1E-12: \n",
    "                    fw_g.write(\"%d %d %d %d %s\\n\" %(p+1+nalpha,q+1+nalpha,pp+1+nalpha,qp+1+nalpha,int_g))\n",
    "                    nonzero_g += 1;\n",
    "\n",
    "# 2e integrals in alpha-beta case\n",
    "for p in range(0,nbeta):\n",
    "    for q in range(0,nalpha):\n",
    "        for pp in range(0,nbeta):\n",
    "            for qp in range(0,nalpha):\n",
    "                index =  p*nalpha*nbeta*nalpha+q*nbeta*nalpha+pp*nalpha+qp\n",
    "                int_g = gab_list[index]\n",
    "\n",
    "                if abs(float(int_g))>1E-12: \n",
    "                    fw_g.write(\"%d %d %d %d %s\\n\" %(p+1+nalpha,q+1,pp+1+nalpha,qp+1,int_g))\n",
    "                    nonzero_g += 1;\n",
    "            \n",
    "print(\"Number of nonzero elements: \",nonzero_g)                     \n",
    "fw_g.close()           "
   ]
  }
 ],
 "metadata": {
  "anaconda-cloud": {},
  "kernelspec": {
   "display_name": "Python [Root]",
   "language": "python",
   "name": "Python [Root]"
  },
  "language_info": {
   "codemirror_mode": {
    "name": "ipython",
    "version": 3
   },
   "file_extension": ".py",
   "mimetype": "text/x-python",
   "name": "python",
   "nbconvert_exporter": "python",
   "pygments_lexer": "ipython3",
   "version": "3.5.2"
  }
 },
 "nbformat": 4,
 "nbformat_minor": 0
}
