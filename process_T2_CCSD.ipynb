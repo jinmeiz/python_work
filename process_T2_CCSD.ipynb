{
 "cells": [
  {
   "cell_type": "markdown",
   "metadata": {},
   "source": [
    "* Read CCSD T2 amplitudes from txt file which is generated from print TiledArray object\n",
    "* Print ech Tile into different txt files"
   ]
  },
  {
   "cell_type": "code",
   "execution_count": 22,
   "metadata": {
    "collapsed": false
   },
   "outputs": [
    {
     "name": "stdout",
     "output_type": "stream",
     "text": [
      "Read file:  ./t2_abij_h2o_3.out\n",
      "[60,60,8,8]\n",
      "\n",
      "Output file:  ./tabij_h2o_3_1.txt\n",
      "[60,60,8,15]\n",
      "\n",
      "Output file:  ./tabij_h2o_3_2.txt\n",
      "[60,60,15,8]\n",
      "\n",
      "Output file:  ./tabij_h2o_3_3.txt\n",
      "[60,60,15,15]\n",
      "\n",
      "Output file:  ./tabij_h2o_3_4.txt\n"
     ]
    }
   ],
   "source": [
    "f_in = open(\"./t2_abij_h2o_3.out\", \"r\")\n",
    "print (\"Read file: \", f_in.name)\n",
    "\n",
    "idx = 1;\n",
    "for line in iter(f_in):\n",
    "    l_list = line.split(' ')\n",
    "    \n",
    "    print (l_list[3])\n",
    "    # nblock = list(l_list[3]);\n",
    "    # print (nblock[1])\n",
    "    \n",
    "    del l_list[0:6]\n",
    "    del l_list[-1]\n",
    "    \n",
    "    f_out = open(\"./tabij_h2o_3_\"+str(idx)+\".txt\", \"w\")\n",
    "    print (\"\\nOutput file: \", f_out.name)\n",
    "    for item in l_list:\n",
    "        f_out.write(\"%s \" % item)\n",
    "    f_out.close()\n",
    "    \n",
    "    idx +=1\n",
    "    \n",
    "f_in.close()\n",
    "\n"
   ]
  },
  {
   "cell_type": "code",
   "execution_count": null,
   "metadata": {
    "collapsed": true
   },
   "outputs": [],
   "source": []
  }
 ],
 "metadata": {
  "anaconda-cloud": {},
  "kernelspec": {
   "display_name": "Python [Root]",
   "language": "python",
   "name": "Python [Root]"
  },
  "language_info": {
   "codemirror_mode": {
    "name": "ipython",
    "version": 3
   },
   "file_extension": ".py",
   "mimetype": "text/x-python",
   "name": "python",
   "nbconvert_exporter": "python",
   "pygments_lexer": "ipython3",
   "version": "3.5.2"
  }
 },
 "nbformat": 4,
 "nbformat_minor": 0
}
